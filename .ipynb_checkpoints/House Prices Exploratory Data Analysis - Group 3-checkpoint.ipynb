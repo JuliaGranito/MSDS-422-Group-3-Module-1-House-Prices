{
 "cells": [
  {
   "cell_type": "markdown",
   "id": "4ad99530",
   "metadata": {},
   "source": [
    "# House Prices Exploratory Data Analysis"
   ]
  },
  {
   "cell_type": "markdown",
   "id": "46b4c244",
   "metadata": {},
   "source": [
    "Northwestern University\n",
    "\n",
    "Master of Science in Data Science 422 - Practical Machine Learning\n",
    "\n",
    "Group 3 - Claire Markey, Julia Granito, Manuel Hurtado, and Steve Desilets"
   ]
  },
  {
   "cell_type": "markdown",
   "id": "0e9b079a",
   "metadata": {},
   "source": [
    "## 1) Introduction"
   ]
  },
  {
   "cell_type": "code",
   "execution_count": null,
   "id": "c6d38c40",
   "metadata": {},
   "outputs": [],
   "source": []
  },
  {
   "cell_type": "code",
   "execution_count": null,
   "id": "2dbad29e",
   "metadata": {},
   "outputs": [],
   "source": []
  },
  {
   "cell_type": "code",
   "execution_count": null,
   "id": "0826ba4d",
   "metadata": {},
   "outputs": [],
   "source": []
  },
  {
   "cell_type": "markdown",
   "id": "7978eb93",
   "metadata": {},
   "source": [
    "## 2) Methods"
   ]
  },
  {
   "cell_type": "code",
   "execution_count": null,
   "id": "e861b455",
   "metadata": {},
   "outputs": [],
   "source": []
  },
  {
   "cell_type": "markdown",
   "id": "327d7e90",
   "metadata": {},
   "source": [
    "## 3) Exploratory Data Analysis Findings"
   ]
  },
  {
   "cell_type": "code",
   "execution_count": null,
   "id": "9208586b",
   "metadata": {},
   "outputs": [],
   "source": []
  },
  {
   "cell_type": "markdown",
   "id": "201d05fd",
   "metadata": {},
   "source": [
    "### 3.1) Single Variable EDA"
   ]
  },
  {
   "cell_type": "code",
   "execution_count": null,
   "id": "0b31c0b7",
   "metadata": {},
   "outputs": [],
   "source": []
  },
  {
   "cell_type": "markdown",
   "id": "4c97f245",
   "metadata": {},
   "source": [
    "### 3.2) Analysis of Relationships Between Variables"
   ]
  },
  {
   "cell_type": "code",
   "execution_count": null,
   "id": "ecc63d15",
   "metadata": {},
   "outputs": [],
   "source": []
  },
  {
   "cell_type": "markdown",
   "id": "c4b24817",
   "metadata": {},
   "source": [
    "### 3.3) Regression"
   ]
  },
  {
   "cell_type": "code",
   "execution_count": null,
   "id": "e2da2ff3",
   "metadata": {},
   "outputs": [],
   "source": []
  },
  {
   "cell_type": "markdown",
   "id": "6f7fdc6f",
   "metadata": {},
   "source": [
    "## 3) Appendix - Python Code and Outputs"
   ]
  },
  {
   "cell_type": "markdown",
   "id": "5455f7da",
   "metadata": {},
   "source": [
    "### 3.1) Data Preparation"
   ]
  },
  {
   "cell_type": "markdown",
   "id": "876d9622",
   "metadata": {},
   "source": [
    "First, we will set up this notebook so that it will display multiple outputs for each cell if needed."
   ]
  },
  {
   "cell_type": "code",
   "execution_count": 1,
   "id": "84526844",
   "metadata": {},
   "outputs": [],
   "source": [
    "from IPython.core.interactiveshell import InteractiveShell\n",
    "InteractiveShell.ast_node_interactivity = \"all\""
   ]
  },
  {
   "cell_type": "markdown",
   "id": "c684f709",
   "metadata": {},
   "source": [
    "Second, we will import the data.  We will view the first five rows of data and the shape of the dataframe to confirm that the data imported correctly."
   ]
  },
  {
   "cell_type": "code",
   "execution_count": 2,
   "id": "8fd2a615",
   "metadata": {},
   "outputs": [
    {
     "data": {
      "text/html": [
       "<div>\n",
       "<style scoped>\n",
       "    .dataframe tbody tr th:only-of-type {\n",
       "        vertical-align: middle;\n",
       "    }\n",
       "\n",
       "    .dataframe tbody tr th {\n",
       "        vertical-align: top;\n",
       "    }\n",
       "\n",
       "    .dataframe thead th {\n",
       "        text-align: right;\n",
       "    }\n",
       "</style>\n",
       "<table border=\"1\" class=\"dataframe\">\n",
       "  <thead>\n",
       "    <tr style=\"text-align: right;\">\n",
       "      <th></th>\n",
       "      <th>Id</th>\n",
       "      <th>MSSubClass</th>\n",
       "      <th>MSZoning</th>\n",
       "      <th>LotFrontage</th>\n",
       "      <th>LotArea</th>\n",
       "      <th>Street</th>\n",
       "      <th>Alley</th>\n",
       "      <th>LotShape</th>\n",
       "      <th>LandContour</th>\n",
       "      <th>Utilities</th>\n",
       "      <th>...</th>\n",
       "      <th>PoolArea</th>\n",
       "      <th>PoolQC</th>\n",
       "      <th>Fence</th>\n",
       "      <th>MiscFeature</th>\n",
       "      <th>MiscVal</th>\n",
       "      <th>MoSold</th>\n",
       "      <th>YrSold</th>\n",
       "      <th>SaleType</th>\n",
       "      <th>SaleCondition</th>\n",
       "      <th>SalePrice</th>\n",
       "    </tr>\n",
       "  </thead>\n",
       "  <tbody>\n",
       "    <tr>\n",
       "      <th>0</th>\n",
       "      <td>1</td>\n",
       "      <td>60</td>\n",
       "      <td>RL</td>\n",
       "      <td>65.0</td>\n",
       "      <td>8450</td>\n",
       "      <td>Pave</td>\n",
       "      <td>NaN</td>\n",
       "      <td>Reg</td>\n",
       "      <td>Lvl</td>\n",
       "      <td>AllPub</td>\n",
       "      <td>...</td>\n",
       "      <td>0</td>\n",
       "      <td>NaN</td>\n",
       "      <td>NaN</td>\n",
       "      <td>NaN</td>\n",
       "      <td>0</td>\n",
       "      <td>2</td>\n",
       "      <td>2008</td>\n",
       "      <td>WD</td>\n",
       "      <td>Normal</td>\n",
       "      <td>208500</td>\n",
       "    </tr>\n",
       "    <tr>\n",
       "      <th>1</th>\n",
       "      <td>2</td>\n",
       "      <td>20</td>\n",
       "      <td>RL</td>\n",
       "      <td>80.0</td>\n",
       "      <td>9600</td>\n",
       "      <td>Pave</td>\n",
       "      <td>NaN</td>\n",
       "      <td>Reg</td>\n",
       "      <td>Lvl</td>\n",
       "      <td>AllPub</td>\n",
       "      <td>...</td>\n",
       "      <td>0</td>\n",
       "      <td>NaN</td>\n",
       "      <td>NaN</td>\n",
       "      <td>NaN</td>\n",
       "      <td>0</td>\n",
       "      <td>5</td>\n",
       "      <td>2007</td>\n",
       "      <td>WD</td>\n",
       "      <td>Normal</td>\n",
       "      <td>181500</td>\n",
       "    </tr>\n",
       "    <tr>\n",
       "      <th>2</th>\n",
       "      <td>3</td>\n",
       "      <td>60</td>\n",
       "      <td>RL</td>\n",
       "      <td>68.0</td>\n",
       "      <td>11250</td>\n",
       "      <td>Pave</td>\n",
       "      <td>NaN</td>\n",
       "      <td>IR1</td>\n",
       "      <td>Lvl</td>\n",
       "      <td>AllPub</td>\n",
       "      <td>...</td>\n",
       "      <td>0</td>\n",
       "      <td>NaN</td>\n",
       "      <td>NaN</td>\n",
       "      <td>NaN</td>\n",
       "      <td>0</td>\n",
       "      <td>9</td>\n",
       "      <td>2008</td>\n",
       "      <td>WD</td>\n",
       "      <td>Normal</td>\n",
       "      <td>223500</td>\n",
       "    </tr>\n",
       "    <tr>\n",
       "      <th>3</th>\n",
       "      <td>4</td>\n",
       "      <td>70</td>\n",
       "      <td>RL</td>\n",
       "      <td>60.0</td>\n",
       "      <td>9550</td>\n",
       "      <td>Pave</td>\n",
       "      <td>NaN</td>\n",
       "      <td>IR1</td>\n",
       "      <td>Lvl</td>\n",
       "      <td>AllPub</td>\n",
       "      <td>...</td>\n",
       "      <td>0</td>\n",
       "      <td>NaN</td>\n",
       "      <td>NaN</td>\n",
       "      <td>NaN</td>\n",
       "      <td>0</td>\n",
       "      <td>2</td>\n",
       "      <td>2006</td>\n",
       "      <td>WD</td>\n",
       "      <td>Abnorml</td>\n",
       "      <td>140000</td>\n",
       "    </tr>\n",
       "    <tr>\n",
       "      <th>4</th>\n",
       "      <td>5</td>\n",
       "      <td>60</td>\n",
       "      <td>RL</td>\n",
       "      <td>84.0</td>\n",
       "      <td>14260</td>\n",
       "      <td>Pave</td>\n",
       "      <td>NaN</td>\n",
       "      <td>IR1</td>\n",
       "      <td>Lvl</td>\n",
       "      <td>AllPub</td>\n",
       "      <td>...</td>\n",
       "      <td>0</td>\n",
       "      <td>NaN</td>\n",
       "      <td>NaN</td>\n",
       "      <td>NaN</td>\n",
       "      <td>0</td>\n",
       "      <td>12</td>\n",
       "      <td>2008</td>\n",
       "      <td>WD</td>\n",
       "      <td>Normal</td>\n",
       "      <td>250000</td>\n",
       "    </tr>\n",
       "  </tbody>\n",
       "</table>\n",
       "<p>5 rows × 81 columns</p>\n",
       "</div>"
      ],
      "text/plain": [
       "   Id  MSSubClass MSZoning  LotFrontage  LotArea Street Alley LotShape  \\\n",
       "0   1          60       RL         65.0     8450   Pave   NaN      Reg   \n",
       "1   2          20       RL         80.0     9600   Pave   NaN      Reg   \n",
       "2   3          60       RL         68.0    11250   Pave   NaN      IR1   \n",
       "3   4          70       RL         60.0     9550   Pave   NaN      IR1   \n",
       "4   5          60       RL         84.0    14260   Pave   NaN      IR1   \n",
       "\n",
       "  LandContour Utilities  ... PoolArea PoolQC Fence MiscFeature MiscVal MoSold  \\\n",
       "0         Lvl    AllPub  ...        0    NaN   NaN         NaN       0      2   \n",
       "1         Lvl    AllPub  ...        0    NaN   NaN         NaN       0      5   \n",
       "2         Lvl    AllPub  ...        0    NaN   NaN         NaN       0      9   \n",
       "3         Lvl    AllPub  ...        0    NaN   NaN         NaN       0      2   \n",
       "4         Lvl    AllPub  ...        0    NaN   NaN         NaN       0     12   \n",
       "\n",
       "  YrSold  SaleType  SaleCondition  SalePrice  \n",
       "0   2008        WD         Normal     208500  \n",
       "1   2007        WD         Normal     181500  \n",
       "2   2008        WD         Normal     223500  \n",
       "3   2006        WD        Abnorml     140000  \n",
       "4   2008        WD         Normal     250000  \n",
       "\n",
       "[5 rows x 81 columns]"
      ]
     },
     "execution_count": 2,
     "metadata": {},
     "output_type": "execute_result"
    },
    {
     "data": {
      "text/plain": [
       "(1460, 81)"
      ]
     },
     "execution_count": 2,
     "metadata": {},
     "output_type": "execute_result"
    },
    {
     "name": "stdout",
     "output_type": "stream",
     "text": [
      "<class 'pandas.core.frame.DataFrame'>\n",
      "RangeIndex: 1460 entries, 0 to 1459\n",
      "Data columns (total 81 columns):\n",
      " #   Column         Non-Null Count  Dtype  \n",
      "---  ------         --------------  -----  \n",
      " 0   Id             1460 non-null   int64  \n",
      " 1   MSSubClass     1460 non-null   int64  \n",
      " 2   MSZoning       1460 non-null   object \n",
      " 3   LotFrontage    1201 non-null   float64\n",
      " 4   LotArea        1460 non-null   int64  \n",
      " 5   Street         1460 non-null   object \n",
      " 6   Alley          91 non-null     object \n",
      " 7   LotShape       1460 non-null   object \n",
      " 8   LandContour    1460 non-null   object \n",
      " 9   Utilities      1460 non-null   object \n",
      " 10  LotConfig      1460 non-null   object \n",
      " 11  LandSlope      1460 non-null   object \n",
      " 12  Neighborhood   1460 non-null   object \n",
      " 13  Condition1     1460 non-null   object \n",
      " 14  Condition2     1460 non-null   object \n",
      " 15  BldgType       1460 non-null   object \n",
      " 16  HouseStyle     1460 non-null   object \n",
      " 17  OverallQual    1460 non-null   int64  \n",
      " 18  OverallCond    1460 non-null   int64  \n",
      " 19  YearBuilt      1460 non-null   int64  \n",
      " 20  YearRemodAdd   1460 non-null   int64  \n",
      " 21  RoofStyle      1460 non-null   object \n",
      " 22  RoofMatl       1460 non-null   object \n",
      " 23  Exterior1st    1460 non-null   object \n",
      " 24  Exterior2nd    1460 non-null   object \n",
      " 25  MasVnrType     1452 non-null   object \n",
      " 26  MasVnrArea     1452 non-null   float64\n",
      " 27  ExterQual      1460 non-null   object \n",
      " 28  ExterCond      1460 non-null   object \n",
      " 29  Foundation     1460 non-null   object \n",
      " 30  BsmtQual       1423 non-null   object \n",
      " 31  BsmtCond       1423 non-null   object \n",
      " 32  BsmtExposure   1422 non-null   object \n",
      " 33  BsmtFinType1   1423 non-null   object \n",
      " 34  BsmtFinSF1     1460 non-null   int64  \n",
      " 35  BsmtFinType2   1422 non-null   object \n",
      " 36  BsmtFinSF2     1460 non-null   int64  \n",
      " 37  BsmtUnfSF      1460 non-null   int64  \n",
      " 38  TotalBsmtSF    1460 non-null   int64  \n",
      " 39  Heating        1460 non-null   object \n",
      " 40  HeatingQC      1460 non-null   object \n",
      " 41  CentralAir     1460 non-null   object \n",
      " 42  Electrical     1459 non-null   object \n",
      " 43  1stFlrSF       1460 non-null   int64  \n",
      " 44  2ndFlrSF       1460 non-null   int64  \n",
      " 45  LowQualFinSF   1460 non-null   int64  \n",
      " 46  GrLivArea      1460 non-null   int64  \n",
      " 47  BsmtFullBath   1460 non-null   int64  \n",
      " 48  BsmtHalfBath   1460 non-null   int64  \n",
      " 49  FullBath       1460 non-null   int64  \n",
      " 50  HalfBath       1460 non-null   int64  \n",
      " 51  BedroomAbvGr   1460 non-null   int64  \n",
      " 52  KitchenAbvGr   1460 non-null   int64  \n",
      " 53  KitchenQual    1460 non-null   object \n",
      " 54  TotRmsAbvGrd   1460 non-null   int64  \n",
      " 55  Functional     1460 non-null   object \n",
      " 56  Fireplaces     1460 non-null   int64  \n",
      " 57  FireplaceQu    770 non-null    object \n",
      " 58  GarageType     1379 non-null   object \n",
      " 59  GarageYrBlt    1379 non-null   float64\n",
      " 60  GarageFinish   1379 non-null   object \n",
      " 61  GarageCars     1460 non-null   int64  \n",
      " 62  GarageArea     1460 non-null   int64  \n",
      " 63  GarageQual     1379 non-null   object \n",
      " 64  GarageCond     1379 non-null   object \n",
      " 65  PavedDrive     1460 non-null   object \n",
      " 66  WoodDeckSF     1460 non-null   int64  \n",
      " 67  OpenPorchSF    1460 non-null   int64  \n",
      " 68  EnclosedPorch  1460 non-null   int64  \n",
      " 69  3SsnPorch      1460 non-null   int64  \n",
      " 70  ScreenPorch    1460 non-null   int64  \n",
      " 71  PoolArea       1460 non-null   int64  \n",
      " 72  PoolQC         7 non-null      object \n",
      " 73  Fence          281 non-null    object \n",
      " 74  MiscFeature    54 non-null     object \n",
      " 75  MiscVal        1460 non-null   int64  \n",
      " 76  MoSold         1460 non-null   int64  \n",
      " 77  YrSold         1460 non-null   int64  \n",
      " 78  SaleType       1460 non-null   object \n",
      " 79  SaleCondition  1460 non-null   object \n",
      " 80  SalePrice      1460 non-null   int64  \n",
      "dtypes: float64(3), int64(35), object(43)\n",
      "memory usage: 924.0+ KB\n"
     ]
    }
   ],
   "source": [
    "import pandas as pd\n",
    "housing_training_data = pd.read_csv('train.csv')\n",
    "\n",
    "# show first five rows of the data\n",
    "housing_training_data.head()\n",
    "# show number of columns and rows\n",
    "housing_training_data.shape\n",
    "# show column names, type, and non-null counts\n",
    "housing_training_data.info(verbose = True, show_counts = True)"
   ]
  },
  {
   "cell_type": "markdown",
   "id": "6039b848",
   "metadata": {},
   "source": [
    "### 3.2) Distribution of the Dependent Variable"
   ]
  },
  {
   "cell_type": "markdown",
   "id": "018feb6b",
   "metadata": {},
   "source": [
    "We can begin examining the distribution of this dataset's dependent variable, sale price, by generating summary statistics for this variable."
   ]
  },
  {
   "cell_type": "code",
   "execution_count": 3,
   "id": "ee324af9",
   "metadata": {},
   "outputs": [
    {
     "data": {
      "text/plain": [
       "count      1460.000000\n",
       "mean     180921.195890\n",
       "std       79442.502883\n",
       "min       34900.000000\n",
       "25%      129975.000000\n",
       "50%      163000.000000\n",
       "75%      214000.000000\n",
       "max      755000.000000\n",
       "Name: SalePrice, dtype: float64"
      ]
     },
     "execution_count": 3,
     "metadata": {},
     "output_type": "execute_result"
    }
   ],
   "source": [
    "housing_training_data['SalePrice'].describe()"
   ]
  },
  {
   "cell_type": "markdown",
   "id": "5ae28ef2",
   "metadata": {},
   "source": [
    "We can also construct a histogram and a boxplot to visualize the distribution of the sale price variable in this dataframe."
   ]
  },
  {
   "cell_type": "code",
   "execution_count": 4,
   "id": "ba6be832",
   "metadata": {},
   "outputs": [
    {
     "data": {
      "image/png": "[encoded data removed]",
      "text/plain": [
       "<Figure size 576x576 with 1 Axes>"
      ]
     },
     "metadata": {
      "needs_background": "light"
     },
     "output_type": "display_data"
    }
   ],
   "source": [
    "import seaborn as sns\n",
    "import matplotlib.pyplot as plt\n",
    "\n",
    "histogram = housing_training_data['SalePrice'].hist(edgecolor = 'black', bins = 15, figsize = (8, 8), grid = False)"
   ]
  },
  {
   "cell_type": "code",
   "execution_count": 5,
   "id": "38507e3d",
   "metadata": {},
   "outputs": [
    {
     "data": {
      "text/plain": [
       "<AxesSubplot:xlabel='SalePrice'>"
      ]
     },
     "execution_count": 5,
     "metadata": {},
     "output_type": "execute_result"
    },
    {
     "data": {
      "image/png": "[encoded data removed]",
      "text/plain": [
       "<Figure size 432x288 with 1 Axes>"
      ]
     },
     "metadata": {
      "needs_background": "light"
     },
     "output_type": "display_data"
    }
   ],
   "source": [
    "sns.boxplot(x=housing_training_data[\"SalePrice\"])"
   ]
  },
  {
   "cell_type": "markdown",
   "id": "9e0f8563",
   "metadata": {},
   "source": [
    "### 3.3) Investigation of Missing Data and Outliers"
   ]
  },
  {
   "cell_type": "markdown",
   "id": "88fe4e88",
   "metadata": {},
   "source": [
    "We can take a look at the counts of reported values in each column to determine the number of missing values for each variable in the dataframe."
   ]
  },
  {
   "cell_type": "code",
   "execution_count": 6,
   "id": "f83f0ab5",
   "metadata": {},
   "outputs": [
    {
     "data": {
      "text/html": [
       "<div>\n",
       "<style scoped>\n",
       "    .dataframe tbody tr th:only-of-type {\n",
       "        vertical-align: middle;\n",
       "    }\n",
       "\n",
       "    .dataframe tbody tr th {\n",
       "        vertical-align: top;\n",
       "    }\n",
       "\n",
       "    .dataframe thead th {\n",
       "        text-align: right;\n",
       "    }\n",
       "</style>\n",
       "<table border=\"1\" class=\"dataframe\">\n",
       "  <thead>\n",
       "    <tr style=\"text-align: right;\">\n",
       "      <th></th>\n",
       "      <th>Missing Count</th>\n",
       "      <th>Percentage Missing</th>\n",
       "      <th>Column Type</th>\n",
       "    </tr>\n",
       "  </thead>\n",
       "  <tbody>\n",
       "    <tr>\n",
       "      <th>PoolQC</th>\n",
       "      <td>1453</td>\n",
       "      <td>99.520548</td>\n",
       "      <td>object</td>\n",
       "    </tr>\n",
       "    <tr>\n",
       "      <th>MiscFeature</th>\n",
       "      <td>1406</td>\n",
       "      <td>96.301370</td>\n",
       "      <td>object</td>\n",
       "    </tr>\n",
       "    <tr>\n",
       "      <th>Alley</th>\n",
       "      <td>1369</td>\n",
       "      <td>93.767123</td>\n",
       "      <td>object</td>\n",
       "    </tr>\n",
       "    <tr>\n",
       "      <th>Fence</th>\n",
       "      <td>1179</td>\n",
       "      <td>80.753425</td>\n",
       "      <td>object</td>\n",
       "    </tr>\n",
       "    <tr>\n",
       "      <th>FireplaceQu</th>\n",
       "      <td>690</td>\n",
       "      <td>47.260274</td>\n",
       "      <td>object</td>\n",
       "    </tr>\n",
       "    <tr>\n",
       "      <th>LotFrontage</th>\n",
       "      <td>259</td>\n",
       "      <td>17.739726</td>\n",
       "      <td>float64</td>\n",
       "    </tr>\n",
       "    <tr>\n",
       "      <th>GarageType</th>\n",
       "      <td>81</td>\n",
       "      <td>5.547945</td>\n",
       "      <td>object</td>\n",
       "    </tr>\n",
       "    <tr>\n",
       "      <th>GarageYrBlt</th>\n",
       "      <td>81</td>\n",
       "      <td>5.547945</td>\n",
       "      <td>float64</td>\n",
       "    </tr>\n",
       "    <tr>\n",
       "      <th>GarageFinish</th>\n",
       "      <td>81</td>\n",
       "      <td>5.547945</td>\n",
       "      <td>object</td>\n",
       "    </tr>\n",
       "    <tr>\n",
       "      <th>GarageQual</th>\n",
       "      <td>81</td>\n",
       "      <td>5.547945</td>\n",
       "      <td>object</td>\n",
       "    </tr>\n",
       "    <tr>\n",
       "      <th>GarageCond</th>\n",
       "      <td>81</td>\n",
       "      <td>5.547945</td>\n",
       "      <td>object</td>\n",
       "    </tr>\n",
       "    <tr>\n",
       "      <th>BsmtExposure</th>\n",
       "      <td>38</td>\n",
       "      <td>2.602740</td>\n",
       "      <td>object</td>\n",
       "    </tr>\n",
       "    <tr>\n",
       "      <th>BsmtFinType2</th>\n",
       "      <td>38</td>\n",
       "      <td>2.602740</td>\n",
       "      <td>object</td>\n",
       "    </tr>\n",
       "    <tr>\n",
       "      <th>BsmtFinType1</th>\n",
       "      <td>37</td>\n",
       "      <td>2.534247</td>\n",
       "      <td>object</td>\n",
       "    </tr>\n",
       "    <tr>\n",
       "      <th>BsmtCond</th>\n",
       "      <td>37</td>\n",
       "      <td>2.534247</td>\n",
       "      <td>object</td>\n",
       "    </tr>\n",
       "    <tr>\n",
       "      <th>BsmtQual</th>\n",
       "      <td>37</td>\n",
       "      <td>2.534247</td>\n",
       "      <td>object</td>\n",
       "    </tr>\n",
       "    <tr>\n",
       "      <th>MasVnrArea</th>\n",
       "      <td>8</td>\n",
       "      <td>0.547945</td>\n",
       "      <td>float64</td>\n",
       "    </tr>\n",
       "    <tr>\n",
       "      <th>MasVnrType</th>\n",
       "      <td>8</td>\n",
       "      <td>0.547945</td>\n",
       "      <td>object</td>\n",
       "    </tr>\n",
       "    <tr>\n",
       "      <th>Electrical</th>\n",
       "      <td>1</td>\n",
       "      <td>0.068493</td>\n",
       "      <td>object</td>\n",
       "    </tr>\n",
       "  </tbody>\n",
       "</table>\n",
       "</div>"
      ],
      "text/plain": [
       "              Missing Count  Percentage Missing Column Type\n",
       "PoolQC                 1453           99.520548      object\n",
       "MiscFeature            1406           96.301370      object\n",
       "Alley                  1369           93.767123      object\n",
       "Fence                  1179           80.753425      object\n",
       "FireplaceQu             690           47.260274      object\n",
       "LotFrontage             259           17.739726     float64\n",
       "GarageType               81            5.547945      object\n",
       "GarageYrBlt              81            5.547945     float64\n",
       "GarageFinish             81            5.547945      object\n",
       "GarageQual               81            5.547945      object\n",
       "GarageCond               81            5.547945      object\n",
       "BsmtExposure             38            2.602740      object\n",
       "BsmtFinType2             38            2.602740      object\n",
       "BsmtFinType1             37            2.534247      object\n",
       "BsmtCond                 37            2.534247      object\n",
       "BsmtQual                 37            2.534247      object\n",
       "MasVnrArea                8            0.547945     float64\n",
       "MasVnrType                8            0.547945      object\n",
       "Electrical                1            0.068493      object"
      ]
     },
     "execution_count": 6,
     "metadata": {},
     "output_type": "execute_result"
    }
   ],
   "source": [
    "# find null counts, percentage of null values, and column type\n",
    "null_count = housing_training_data.isnull().sum()\n",
    "null_percentage = housing_training_data.isnull().sum() * 100 / len(housing_training_data)\n",
    "column_type = housing_training_data.dtypes\n",
    "\n",
    "# show null counts, percentage of null values, and column type for columns with more than one Null value\n",
    "null_summary = pd.concat([null_count, null_percentage, column_type], axis=1, keys=['Missing Count', 'Percentage Missing','Column Type'])\n",
    "null_summary_only_missing = null_summary[null_count != 0].sort_values('Percentage Missing',ascending=False)\n",
    "null_summary_only_missing"
   ]
  },
  {
   "cell_type": "markdown",
   "id": "b8519a90",
   "metadata": {},
   "source": [
    "We will deal with columns that contain missing values. For the purpose of this exploratory data analysis, we will use the percentage of nulls missing, the column type, and the other columns present in the data that may provide information that can be used to fill in the missing values."
   ]
  },
  {
   "cell_type": "markdown",
   "id": "d57be887",
   "metadata": {},
   "source": [
    "We will remove columns with over 50% Null values."
   ]
  },
  {
   "cell_type": "code",
   "execution_count": 7,
   "id": "62283da4",
   "metadata": {},
   "outputs": [
    {
     "data": {
      "text/plain": [
       "(1460, 77)"
      ]
     },
     "execution_count": 7,
     "metadata": {},
     "output_type": "execute_result"
    }
   ],
   "source": [
    "# PoolQC, MiscFeature, Alley, Fence all have over 50% of missing values, we will remove those from our dataframe\n",
    "housing_training_data.drop(['Alley','PoolQC','Fence','MiscFeature'],axis=1,inplace=True)\n",
    "\n",
    "# show new shape\n",
    "housing_training_data.shape"
   ]
  },
  {
   "cell_type": "markdown",
   "id": "0967d63f",
   "metadata": {},
   "source": [
    "We will set Null values in columns that are non-numeric to None."
   ]
  },
  {
   "cell_type": "code",
   "execution_count": 8,
   "id": "b73b80b5",
   "metadata": {},
   "outputs": [],
   "source": [
    "# select non-numeric columns that contain more than 1 Null value\n",
    "columns_None = ['BsmtQual','BsmtCond','BsmtExposure','BsmtFinType1','BsmtFinType2','GarageType','GarageFinish','GarageQual','FireplaceQu','GarageCond','MasVnrType','Electrical']\n",
    "# set Nulls in non-numeric columns to 'None'\n",
    "housing_training_data[columns_None] = housing_training_data[columns_None].fillna('None')"
   ]
  },
  {
   "cell_type": "markdown",
   "id": "4e7c9d3b",
   "metadata": {},
   "source": [
    "We determine the best way to handle nulls for each numeric column. We replace nulls in Masonry veneer area with 0, nulls in Lot Frontage with the median, and nulls in Year Garage was built with the average between the year the garage was built and year house was built ."
   ]
  },
  {
   "cell_type": "code",
   "execution_count": 9,
   "id": "e95e6c7e",
   "metadata": {},
   "outputs": [
    {
     "data": {
      "text/plain": [
       "count    1201.000000\n",
       "mean       70.049958\n",
       "std        24.284752\n",
       "min        21.000000\n",
       "25%        59.000000\n",
       "50%        69.000000\n",
       "75%        80.000000\n",
       "max       313.000000\n",
       "Name: LotFrontage, dtype: float64"
      ]
     },
     "execution_count": 9,
     "metadata": {},
     "output_type": "execute_result"
    }
   ],
   "source": [
    "# change Null values to 0 for Masonry veneer area\n",
    "housing_training_data['MasVnrArea'].fillna(0, inplace=True)\n",
    "\n",
    "# show distribution stats for Lot Frontage\n",
    "housing_training_data['LotFrontage'].describe()\n",
    "# fill Nulls for Lot Frontage with median value\n",
    "housing_training_data['LotFrontage'].fillna(housing_training_data['LotFrontage'].median(), inplace=True)\n",
    "\n",
    "# average years between garage being built and years built\n",
    "avg_years = round((housing_training_data['GarageYrBlt'] - housing_training_data['YearBuilt']).mean())\n",
    "# fill Nulls with avg bet year garage was built and year house was built \n",
    "housing_training_data['GarageYrBlt'].fillna(housing_training_data['YearBuilt']+avg_years, inplace=True)"
   ]
  },
  {
   "cell_type": "markdown",
   "id": "b5968a3c",
   "metadata": {},
   "source": [
    "We can see there are no more missing values in our original dataframe."
   ]
  },
  {
   "cell_type": "code",
   "execution_count": 10,
   "id": "bb4c572e",
   "metadata": {},
   "outputs": [
    {
     "data": {
      "text/plain": [
       "Series([], dtype: int64)"
      ]
     },
     "execution_count": 10,
     "metadata": {},
     "output_type": "execute_result"
    }
   ],
   "source": [
    "# check that there are no more missing values in the dataframe\n",
    "null_count = housing_training_data.isnull().sum()\n",
    "null_count[null_count != 0]"
   ]
  },
  {
   "cell_type": "markdown",
   "id": "a4249ba7",
   "metadata": {},
   "source": [
    "We can also create boxplots for each of the continuous variables in the dataframe to analyze whether outliers exist for each of those variables."
   ]
  },
  {
   "cell_type": "code",
   "execution_count": 11,
   "id": "e258745d",
   "metadata": {},
   "outputs": [
    {
     "data": {
      "text/plain": [
       "<AxesSubplot:xlabel='LotFrontage'>"
      ]
     },
     "execution_count": 11,
     "metadata": {},
     "output_type": "execute_result"
    },
    {
     "data": {
      "text/plain": [
       "<AxesSubplot:xlabel='LotArea'>"
      ]
     },
     "execution_count": 11,
     "metadata": {},
     "output_type": "execute_result"
    },
    {
     "data": {
      "text/plain": [
       "<AxesSubplot:xlabel='OverallQual'>"
      ]
     },
     "execution_count": 11,
     "metadata": {},
     "output_type": "execute_result"
    },
    {
     "data": {
      "text/plain": [
       "<AxesSubplot:xlabel='OverallCond'>"
      ]
     },
     "execution_count": 11,
     "metadata": {},
     "output_type": "execute_result"
    },
    {
     "data": {
      "text/plain": [
       "<AxesSubplot:xlabel='YearBuilt'>"
      ]
     },
     "execution_count": 11,
     "metadata": {},
     "output_type": "execute_result"
    },
    {
     "data": {
      "text/plain": [
       "<AxesSubplot:xlabel='YearRemodAdd'>"
      ]
     },
     "execution_count": 11,
     "metadata": {},
     "output_type": "execute_result"
    },
    {
     "data": {
      "text/plain": [
       "<AxesSubplot:xlabel='MasVnrArea'>"
      ]
     },
     "execution_count": 11,
     "metadata": {},
     "output_type": "execute_result"
    },
    {
     "data": {
      "text/plain": [
       "<AxesSubplot:xlabel='BsmtFinSF1'>"
      ]
     },
     "execution_count": 11,
     "metadata": {},
     "output_type": "execute_result"
    },
    {
     "data": {
      "text/plain": [
       "<AxesSubplot:xlabel='BsmtFinSF2'>"
      ]
     },
     "execution_count": 11,
     "metadata": {},
     "output_type": "execute_result"
    },
    {
     "data": {
      "text/plain": [
       "<AxesSubplot:xlabel='BsmtUnfSF'>"
      ]
     },
     "execution_count": 11,
     "metadata": {},
     "output_type": "execute_result"
    },
    {
     "data": {
      "text/plain": [
       "<AxesSubplot:xlabel='TotalBsmtSF'>"
      ]
     },
     "execution_count": 11,
     "metadata": {},
     "output_type": "execute_result"
    },
    {
     "data": {
      "text/plain": [
       "<AxesSubplot:xlabel='1stFlrSF'>"
      ]
     },
     "execution_count": 11,
     "metadata": {},
     "output_type": "execute_result"
    },
    {
     "data": {
      "text/plain": [
       "<AxesSubplot:xlabel='2ndFlrSF'>"
      ]
     },
     "execution_count": 11,
     "metadata": {},
     "output_type": "execute_result"
    },
    {
     "data": {
      "text/plain": [
       "<AxesSubplot:xlabel='LowQualFinSF'>"
      ]
     },
     "execution_count": 11,
     "metadata": {},
     "output_type": "execute_result"
    },
    {
     "data": {
      "text/plain": [
       "<AxesSubplot:xlabel='GrLivArea'>"
      ]
     },
     "execution_count": 11,
     "metadata": {},
     "output_type": "execute_result"
    },
    {
     "data": {
      "text/plain": [
       "<AxesSubplot:xlabel='BsmtFullBath'>"
      ]
     },
     "execution_count": 11,
     "metadata": {},
     "output_type": "execute_result"
    },
    {
     "data": {
      "text/plain": [
       "<AxesSubplot:xlabel='BsmtHalfBath'>"
      ]
     },
     "execution_count": 11,
     "metadata": {},
     "output_type": "execute_result"
    },
    {
     "data": {
      "text/plain": [
       "<AxesSubplot:xlabel='FullBath'>"
      ]
     },
     "execution_count": 11,
     "metadata": {},
     "output_type": "execute_result"
    },
    {
     "data": {
      "text/plain": [
       "<AxesSubplot:xlabel='HalfBath'>"
      ]
     },
     "execution_count": 11,
     "metadata": {},
     "output_type": "execute_result"
    },
    {
     "data": {
      "text/plain": [
       "<AxesSubplot:xlabel='BedroomAbvGr'>"
      ]
     },
     "execution_count": 11,
     "metadata": {},
     "output_type": "execute_result"
    },
    {
     "data": {
      "text/plain": [
       "<AxesSubplot:xlabel='KitchenAbvGr'>"
      ]
     },
     "execution_count": 11,
     "metadata": {},
     "output_type": "execute_result"
    },
    {
     "data": {
      "text/plain": [
       "<AxesSubplot:xlabel='TotRmsAbvGrd'>"
      ]
     },
     "execution_count": 11,
     "metadata": {},
     "output_type": "execute_result"
    },
    {
     "data": {
      "text/plain": [
       "<AxesSubplot:xlabel='Fireplaces'>"
      ]
     },
     "execution_count": 11,
     "metadata": {},
     "output_type": "execute_result"
    },
    {
     "data": {
      "text/plain": [
       "<AxesSubplot:xlabel='GarageYrBlt'>"
      ]
     },
     "execution_count": 11,
     "metadata": {},
     "output_type": "execute_result"
    },
    {
     "data": {
      "text/plain": [
       "<AxesSubplot:xlabel='GarageCars'>"
      ]
     },
     "execution_count": 11,
     "metadata": {},
     "output_type": "execute_result"
    },
    {
     "data": {
      "text/plain": [
       "<AxesSubplot:xlabel='GarageArea'>"
      ]
     },
     "execution_count": 11,
     "metadata": {},
     "output_type": "execute_result"
    },
    {
     "data": {
      "text/plain": [
       "<AxesSubplot:xlabel='WoodDeckSF'>"
      ]
     },
     "execution_count": 11,
     "metadata": {},
     "output_type": "execute_result"
    },
    {
     "data": {
      "text/plain": [
       "<AxesSubplot:xlabel='OpenPorchSF'>"
      ]
     },
     "execution_count": 11,
     "metadata": {},
     "output_type": "execute_result"
    },
    {
     "data": {
      "text/plain": [
       "<AxesSubplot:xlabel='EnclosedPorch'>"
      ]
     },
     "execution_count": 11,
     "metadata": {},
     "output_type": "execute_result"
    },
    {
     "data": {
      "text/plain": [
       "<AxesSubplot:xlabel='3SsnPorch'>"
      ]
     },
     "execution_count": 11,
     "metadata": {},
     "output_type": "execute_result"
    },
    {
     "data": {
      "text/plain": [
       "<AxesSubplot:xlabel='ScreenPorch'>"
      ]
     },
     "execution_count": 11,
     "metadata": {},
     "output_type": "execute_result"
    },
    {
     "data": {
      "text/plain": [
       "<AxesSubplot:xlabel='PoolArea'>"
      ]
     },
     "execution_count": 11,
     "metadata": {},
     "output_type": "execute_result"
    },
    {
     "data": {
      "text/plain": [
       "<AxesSubplot:xlabel='MiscVal'>"
      ]
     },
     "execution_count": 11,
     "metadata": {},
     "output_type": "execute_result"
    },
    {
     "data": {
      "text/plain": [
       "<AxesSubplot:xlabel='SalePrice'>"
      ]
     },
     "execution_count": 11,
     "metadata": {},
     "output_type": "execute_result"
    },
    {
     "data": {
      "image/png": "[encoded data removed]",
      "text/plain": [
       "<Figure size 720x1440 with 34 Axes>"
      ]
     },
     "metadata": {
      "needs_background": "light"
     },
     "output_type": "display_data"
    }
   ],
   "source": [
    "numerical_vars = ['LotFrontage', 'LotArea', 'OverallQual', 'OverallCond', 'YearBuilt', 'YearRemodAdd', 'MasVnrArea',\n",
    "                 'BsmtFinSF1', 'BsmtFinSF2', 'BsmtUnfSF', 'TotalBsmtSF', '1stFlrSF', '2ndFlrSF', 'LowQualFinSF',\n",
    "                 'GrLivArea', 'BsmtFullBath', 'BsmtHalfBath', 'FullBath', 'HalfBath', 'BedroomAbvGr', 'KitchenAbvGr',\n",
    "                 'TotRmsAbvGrd', 'Fireplaces', 'GarageYrBlt', 'GarageCars', 'GarageArea', 'WoodDeckSF', 'OpenPorchSF',\n",
    "                 'EnclosedPorch', '3SsnPorch', 'ScreenPorch', 'PoolArea', 'MiscVal', 'SalePrice']\n",
    "\n",
    "fig, ax = plt.subplots(17, 2, figsize = (10, 20))\n",
    "\n",
    "for var, subplot in zip(numerical_vars, ax.flatten()):\n",
    "    sns.boxplot(x=housing_training_data[var], ax = subplot)\n",
    "    \n",
    "fig.tight_layout()"
   ]
  },
  {
   "cell_type": "code",
   "execution_count": 12,
   "id": "03115f54",
   "metadata": {},
   "outputs": [
    {
     "data": {
      "text/plain": [
       "count    1460.000000\n",
       "mean       69.863699\n",
       "std        22.027677\n",
       "min        21.000000\n",
       "25%        60.000000\n",
       "50%        69.000000\n",
       "75%        79.000000\n",
       "max       313.000000\n",
       "Name: LotFrontage, dtype: float64"
      ]
     },
     "execution_count": 12,
     "metadata": {},
     "output_type": "execute_result"
    }
   ],
   "source": [
    "# lot frontage appears to have one large outlier above 300 sq feet\n",
    "housing_training_data['LotFrontage'].describe()\n",
    "\n",
    "# drop that large outlier from the dataframe\n",
    "housing_training_data.drop(housing_training_data[housing_training_data['LotFrontage'] > 300].index, inplace=True)"
   ]
  },
  {
   "cell_type": "code",
   "execution_count": 13,
   "id": "ff27c1f6",
   "metadata": {},
   "outputs": [
    {
     "data": {
      "text/plain": [
       "count    1458.000000\n",
       "mean      440.085734\n",
       "std       435.587982\n",
       "min         0.000000\n",
       "25%         0.000000\n",
       "50%       382.000000\n",
       "75%       712.000000\n",
       "max      2260.000000\n",
       "Name: BsmtFinSF1, dtype: float64"
      ]
     },
     "execution_count": 13,
     "metadata": {},
     "output_type": "execute_result"
    }
   ],
   "source": [
    "# finished basement sq footage appears to have one large outlier above 5000 sq feet\n",
    "housing_training_data['BsmtFinSF1'].describe()\n",
    "\n",
    "# drop that large outlier from the dataframe\n",
    "housing_training_data.drop(housing_training_data[housing_training_data['BsmtFinSF1'] > 5000].index, inplace=True)"
   ]
  },
  {
   "cell_type": "markdown",
   "id": "72c32db1",
   "metadata": {},
   "source": [
    "### 3.4) Examination of the Relationship between the Dependent Variable and Potential Predictors"
   ]
  },
  {
   "cell_type": "markdown",
   "id": "137ab033",
   "metadata": {},
   "source": [
    "We can use a correlation heatmap to quantify the correlation between the dependent variable, sale price, and the potential continuous predictor variables."
   ]
  },
  {
   "cell_type": "code",
   "execution_count": null,
   "id": "67fb947a",
   "metadata": {},
   "outputs": [
    {
     "data": {
      "text/plain": [
       "<AxesSubplot:>"
      ]
     },
     "execution_count": 14,
     "metadata": {},
     "output_type": "execute_result"
    }
   ],
   "source": [
    "df_corr_housing_training = housing_training_data[numerical_vars]\n",
    "corrmat_housing_training = df_corr_housing_training.corr()\n",
    "\n",
    "f, ax = plt.subplots(figsize = (20, 20))\n",
    "sns.heatmap(corrmat_housing_training, vmax = 1, square = True, annot = True,\n",
    "           cmap = 'RdYlBu', linewidths = 0.5, fmt=\".1f\")"
   ]
  },
  {
   "cell_type": "code",
   "execution_count": null,
   "id": "ced4a8fb",
   "metadata": {},
   "outputs": [],
   "source": [
    "#Correlation with output variable\n",
    "cor_target = abs(corrmat_housing_training[\"SalePrice\"])\n",
    "#Selecting highly correlated features\n",
    "relevant_features = cor_target[cor_target>0.5]\n",
    "relevant_features.sort_values(ascending=False)"
   ]
  },
  {
   "cell_type": "markdown",
   "id": "11f333fe",
   "metadata": {},
   "source": [
    "We can use jointplots to take a closer look at the relationship between sale price and the five continuous variables with strong or moderate associations: OverallQual, GrLivArea, GarageArea, Fullbath, and TotalBsmntSF."
   ]
  },
  {
   "cell_type": "markdown",
   "id": "3224a33e",
   "metadata": {},
   "source": [
    "### Below are Pearson correlations that examine the associations between variables of interest and sale price"
   ]
  },
  {
   "cell_type": "code",
   "execution_count": null,
   "id": "b04953d6",
   "metadata": {},
   "outputs": [],
   "source": [
    "from scipy import stats\n",
    "\n",
    "#Pearson correlation coefficient and p value for sale price and OverallQual (Overall material and finish quality):\n",
    "res1 = stats.pearsonr(housing_training_data.OverallQual, housing_training_data.SalePrice)\n",
    "print(\"Pearson correlation coefficient and p value for sale price and OverallQual (Overall material and finish quality):\")\n",
    "res1\n",
    "#Pearson correlation coefficient and p value for sale price and GrLivArea (Above grade (ground) living area square feet):\n",
    "res2 = stats.pearsonr(housing_training_data.GrLivArea, housing_training_data.SalePrice)\n",
    "print(\"Pearson correlation coefficient and p value for sale price and GrLivArea (Above grade (ground) living area square feet):\")\n",
    "res2\n",
    "#Pearson correlation coefficient and p value for sale price and FullBath (Full bathrooms above grade):\n",
    "res3 = stats.pearsonr(housing_training_data.FullBath, housing_training_data.SalePrice)\n",
    "print(\"Pearson correlation coefficient and p value for sale price and FullBath (Full bathrooms above grade):\")\n",
    "res3\n",
    "#Pearson correlation coefficient and p value for sale price and TotalBsmtSF (Total square feet of basement area):\n",
    "res4 = stats.pearsonr(housing_training_data.TotalSF, housing_training_data.SalePrice)\n",
    "print(\"Pearson correlation coefficient and p value for sale price and TotalBsmtSF (Total square feet of basement area):\")\n",
    "res4\n",
    "#Pearson correlation coefficient and p value for sale price and GarageArea (Size of garage in square feet):\n",
    "res5 = stats.pearsonr(housing_training_data.GarageArea, housing_training_data.SalePrice)\n",
    "print(\"Pearson correlation coefficient and p value for sale price and GarageArea (Size of garage in square feet):\")\n",
    "res5"
   ]
  },
  {
   "cell_type": "markdown",
   "id": "162aebe2",
   "metadata": {},
   "source": [
    "### Below are plots that examine the relationship between variables of interest and sale price"
   ]
  },
  {
   "cell_type": "code",
   "execution_count": null,
   "id": "07d80aee",
   "metadata": {
    "scrolled": true
   },
   "outputs": [],
   "source": [
    "sns.jointplot(x='OverallQual', y='SalePrice', data = housing_training_data, joint_kws={\"s\": 10});"
   ]
  },
  {
   "cell_type": "code",
   "execution_count": null,
   "id": "6413998e",
   "metadata": {},
   "outputs": [],
   "source": [
    "sns.jointplot(x='GrLivArea', y='SalePrice', data = housing_training_data, joint_kws={\"s\": 10});"
   ]
  },
  {
   "cell_type": "code",
   "execution_count": null,
   "id": "584ac1cf",
   "metadata": {},
   "outputs": [],
   "source": [
    "sns.jointplot(x='FullBath', y='SalePrice', data = housing_training_data, joint_kws={\"s\": 10});"
   ]
  },
  {
   "cell_type": "code",
   "execution_count": null,
   "id": "1bc08760",
   "metadata": {},
   "outputs": [],
   "source": [
    "sns.jointplot(x='TotalBsmtSF', y='SalePrice', data = housing_training_data, joint_kws={\"s\": 10});"
   ]
  },
  {
   "cell_type": "code",
   "execution_count": null,
   "id": "46b4ebe1",
   "metadata": {
    "scrolled": true
   },
   "outputs": [],
   "source": [
    "sns.jointplot(x='GarageArea', y='SalePrice', data = housing_training_data, joint_kws={\"s\": 10});"
   ]
  },
  {
   "cell_type": "markdown",
   "id": "2452b4f9",
   "metadata": {},
   "source": [
    "### 3.5) Feature Creation"
   ]
  },
  {
   "cell_type": "code",
   "execution_count": null,
   "id": "2c5cddd0",
   "metadata": {},
   "outputs": [],
   "source": [
    "# create new variable, years since the house has been remodelled (use construction date if no remodeling or additions)\n",
    "housing_training_data['YrSinceRemod'] = housing_training_data['YrSold'] - housing_training_data['YearRemodAdd']\n",
    "\n",
    "#Pearson correlation coefficient and p value for sale price and GarageArea (Size of garage in square feet):\n",
    "res6 = stats.pearsonr(housing_training_data.YrSinceRemod, housing_training_data.SalePrice)\n",
    "print(\"Pearson correlation coefficient and p value for sale price and Years since House was remodeled/built:\")\n",
    "res6\n",
    "\n",
    "# create new variable TotalSF\n",
    "housing_training_data['TotalSF'] = housing_training_data['TotalBsmtSF'] + housing_training_data['GrLivArea']\n",
    "\n",
    "#Pearson correlation coefficient and p value for sale price and GarageArea (Size of garage in square feet):\n",
    "res7 = stats.pearsonr(housing_training_data.TotalSF, housing_training_data.SalePrice)\n",
    "print(\"Pearson correlation coefficient and p value for sale price and TotalSF (Total square feet - includes basement):\")\n",
    "res7"
   ]
  },
  {
   "cell_type": "markdown",
   "id": "b6b29c4b",
   "metadata": {},
   "source": [
    "### Below are simple and multiple regressions that examine the associations between variables of interest and sale price"
   ]
  },
  {
   "cell_type": "code",
   "execution_count": null,
   "id": "48ba9c25",
   "metadata": {},
   "outputs": [],
   "source": [
    "import statsmodels.api as sm\n",
    "# New feature is highly correlated, lets try a simple linear regression\n",
    "x = housing_training_data[['TotalSF']]\n",
    "y = housing_training_data['SalePrice']\n",
    "\n",
    "#add constant to predictor variables\n",
    "X = sm.add_constant(x)\n",
    "\n",
    "#fit linear regression model\n",
    "model = sm.OLS(y, X).fit()\n",
    "\n",
    "#view model summary\n",
    "print(model.summary())\n",
    "\n",
    "# plot the regression model\n",
    "sns.regplot(x=x, y=y)"
   ]
  },
  {
   "cell_type": "code",
   "execution_count": null,
   "id": "da46dc1a",
   "metadata": {},
   "outputs": [],
   "source": [
    "#Simple linear regression for sale price and OverallQual (Overall material and finish quality):\n",
    "x = housing_training_data[['OverallQual']]\n",
    "y = housing_training_data['SalePrice']\n",
    "\n",
    "#add constant to predictor variables\n",
    "X = sm.add_constant(x)\n",
    "\n",
    "#fit linear regression model\n",
    "model = sm.OLS(y, X).fit()\n",
    "\n",
    "#view model summary\n",
    "print(model.summary())\n",
    "\n",
    "# plot the regression model\n",
    "sns.regplot(x=x, y=y)"
   ]
  },
  {
   "cell_type": "markdown",
   "id": "5f1ccf62",
   "metadata": {},
   "source": [
    "Check the correlation between the two new variables. If they are highly correlated we won't construct a mutliple linear regression model with the both of those variables as predictors."
   ]
  },
  {
   "cell_type": "code",
   "execution_count": null,
   "id": "5371a138",
   "metadata": {},
   "outputs": [],
   "source": [
    "df_corr_mult_lreg = housing_training_data[['TotalSF','YrSinceRemod']]\n",
    "df_corr_mult_lreg.corr()"
   ]
  },
  {
   "cell_type": "markdown",
   "id": "347cf789",
   "metadata": {},
   "source": [
    "TotalSF and YrSinceRemod are not highly correlated so we will construct a multiple linear regression model using the two variables as predictors."
   ]
  },
  {
   "cell_type": "code",
   "execution_count": null,
   "id": "78497374",
   "metadata": {},
   "outputs": [],
   "source": [
    "import statsmodels.api as sm\n",
    "x = housing_training_data[['TotalSF','YrSinceRemod']]\n",
    "y = housing_training_data['SalePrice']\n",
    "\n",
    "#add constant to predictor variables\n",
    "X = sm.add_constant(x)\n",
    "\n",
    "#fit linear regression model\n",
    "model = sm.OLS(y, X).fit()\n",
    "\n",
    "#view model summary\n",
    "print(model.summary())"
   ]
  },
  {
   "cell_type": "markdown",
   "id": "26141160",
   "metadata": {},
   "source": [
    "An r-squared value of 0.725 means that the model explains 72.5 percent of the variance in the dependent variable. The adjusted R-squared value is about the same as the r-squared value, indicating that we aren't overfitting the model by addding multiple variables. The omnibus test, however, indicates that residuals are not normally distributed and the high kurtosis value indicates that the distribution of the residuals are more peaked than a normal distribution. The condition number is 1.12e+04, which is quite high and suggests that there may be multicollinearity in the model."
   ]
  },
  {
   "cell_type": "markdown",
   "id": "0ffc0cce",
   "metadata": {},
   "source": [
    "### 3.6) Scaling of the Dependent Variable"
   ]
  },
  {
   "cell_type": "markdown",
   "id": "3b4f75eb",
   "metadata": {},
   "source": [
    "We can create a copy of the sale price variable that has been standardized via standard scaling.  We can examine the summary statistics of this new variable to confirm we've applied standard scaling correctly to this new variable."
   ]
  },
  {
   "cell_type": "code",
   "execution_count": null,
   "id": "b21f2f7a",
   "metadata": {},
   "outputs": [],
   "source": [
    "from sklearn import preprocessing\n",
    "standardized_sale_price = preprocessing.scale(housing_training_data['SalePrice'])\n",
    "housing_training_data['standardized_sale_price'] = standardized_sale_price.tolist()\n",
    "\n",
    "housing_training_data['standardized_sale_price'].describe()"
   ]
  },
  {
   "cell_type": "markdown",
   "id": "f57e6d5e",
   "metadata": {},
   "source": [
    "Given that the mean of the new standardized sale price variable is (approximately) 0 and the standard deviation of the new standardized sale price variable is (approximately) 1, we can have confidence that we performed the appropriate transformation correctly and successfully."
   ]
  },
  {
   "cell_type": "markdown",
   "id": "ddd28e00",
   "metadata": {},
   "source": [
    "Similarly, we can create a copy of the sale price variable that has been standardized via min-max scaling.  Then, we can examine the summary statistics of this new variable to confirm we've applied min-max scaling correctly to this new variable."
   ]
  },
  {
   "cell_type": "code",
   "execution_count": null,
   "id": "2325a957",
   "metadata": {},
   "outputs": [],
   "source": [
    "import os\n",
    "from sklearn.preprocessing import MinMaxScaler\n",
    " \n",
    "scaler = MinMaxScaler()\n",
    " \n",
    "housing_training_data[['min_max_scaled_sale_price']] = scaler.fit_transform(housing_training_data[['SalePrice']])\n",
    "\n",
    "housing_training_data.shape\n",
    "housing_training_data.head()\n",
    "\n",
    "housing_training_data['min_max_scaled_sale_price'].describe()"
   ]
  },
  {
   "cell_type": "markdown",
   "id": "c9f7db66",
   "metadata": {},
   "source": [
    "Given that the maximum value in the new min-max scaled sale price variable is 1 and the minimum value in the new min-max scaled sale price variable is 1, we can have confidence that we performed the appropriate transformation correctly and successfully."
   ]
  }
 ],
 "metadata": {
  "kernelspec": {
   "display_name": "Python 3 (ipykernel)",
   "language": "python",
   "name": "python3"
  },
  "language_info": {
   "codemirror_mode": {
    "name": "ipython",
    "version": 3
   },
   "file_extension": ".py",
   "mimetype": "text/x-python",
   "name": "python",
   "nbconvert_exporter": "python",
   "pygments_lexer": "ipython3",
   "version": "3.9.7"
  }
 },
 "nbformat": 4,
 "nbformat_minor": 5
}
